{
 "cells": [
  {
   "attachments": {},
   "cell_type": "markdown",
   "metadata": {},
   "source": [
    "### Loading Raw(ish) Data "
   ]
  },
  {
   "attachments": {},
   "cell_type": "markdown",
   "metadata": {},
   "source": [
    "#### Define table schemas "
   ]
  },
  {
   "cell_type": "code",
   "execution_count": 146,
   "metadata": {},
   "outputs": [
    {
     "name": "stdout",
     "output_type": "stream",
     "text": [
      "Did not create table chi_crimes. Already exists?\n",
      "Created table: den_crimes\n",
      "\tincident_id\tINTEGER\n",
      "\toffense_id\tINTEGER\n",
      "\toffense_code\tINTEGER\n",
      "\toffense_code_ext\tINTEGER\n",
      "\toffense_type_id\tSTRING\n",
      "\toffense_cat_id\tSTRING\n",
      "\tfirst_occurrence\tDATETIME\n",
      "\tlast_occurrence\tDATETIME\n",
      "\treported_date\tDATETIME\n",
      "\taddress\tSTRING\n",
      "\tgeo_x\tFLOAT\n",
      "\tgeo_y\tFLOAT\n",
      "\tgeo_lon\tFLOAT\n",
      "\tgeo_lat\tFLOAT\n",
      "\tdistrict_id\tSTRING\n",
      "\tprecinct_id\tINTEGER\n",
      "\tneighborhood_id\tSTRING\n",
      "\tis_crime\tBOOLEAN\n",
      "\tis_traffic\tBOOLEAN\n",
      "\tvictim_count\tINTEGER\n",
      "\n",
      "\n",
      "Did not create table off_codes. Already exists?\n"
     ]
    }
   ],
   "source": [
    "import os\n",
    "import sys\n",
    "import pandas as pd\n",
    "from google.cloud import bigquery \n",
    "from google.oauth2 import service_account\n",
    "\n",
    "key_path = \"/home/alex/.creds/salex-sa.json\"\n",
    "credentials = service_account.Credentials.from_service_account_file(\n",
    "    key_path, scopes=[\"https://www.googleapis.com/auth/cloud-platform\"],\n",
    ")\n",
    "\n",
    "DATA_DIR = \"../data\"\n",
    "PROJECT_NAME = \"team-week2\"\n",
    "\n",
    "# **** TABLE SCHEMAS ****\n",
    "TABLE_METADATA = {\n",
    "   ## 'Raw' Data (just renaming columns)\n",
    "   'chi_crimes': {\n",
    "       'dataset_name':'chicago',\n",
    "       'table_name': 'chi_crimes',\n",
    "       'schema': [\n",
    "           bigquery.SchemaField('crime_id', 'INTEGER', mode='REQUIRED'),\n",
    "           bigquery.SchemaField('case_number', 'STRING', mode='REQUIRED'),\n",
    "           bigquery.SchemaField('date_time', 'STRING', mode='NULLABLE'),\n",
    "           bigquery.SchemaField('block', 'STRING', mode='NULLABLE'),\n",
    "           bigquery.SchemaField('IUCR_code', 'STRING', mode='NULLABLE'),\n",
    "           bigquery.SchemaField('primary_IUCR', 'STRING', mode='NULLABLE'),\n",
    "           bigquery.SchemaField('secondary_IUCR', 'STRING', mode='NULLABLE'),\n",
    "           bigquery.SchemaField('location_description', 'STRING', mode='NULLABLE'),\n",
    "           bigquery.SchemaField('arrest', 'BOOL', mode='NULLABLE'),\n",
    "           bigquery.SchemaField('domestic', 'BOOL', mode='NULLABLE'),\n",
    "           bigquery.SchemaField('beat', 'INTEGER', mode='NULLABLE'),\n",
    "           bigquery.SchemaField('district', 'INTEGER', mode='NULLABLE'),\n",
    "           bigquery.SchemaField('ward', 'INTEGER', mode='NULLABLE'),\n",
    "           bigquery.SchemaField('community_area', 'INTEGER', mode='NULLABLE'),\n",
    "           bigquery.SchemaField('FBI_code', 'STRING', mode='NULLABLE'),\n",
    "           bigquery.SchemaField('x_coordinate', 'FLOAT', mode='NULLABLE'),\n",
    "           bigquery.SchemaField('y_coordinate', 'FLOAT', mode='NULLABLE'),\n",
    "           bigquery.SchemaField('year', 'INTEGER', mode='NULLABLE'),\n",
    "           bigquery.SchemaField('updated_on', 'STRING', mode='NULLABLE'),\n",
    "           bigquery.SchemaField('lat', 'FLOAT', mode='NULLABLE'),\n",
    "           bigquery.SchemaField('lon', 'FLOAT', mode='NULLABLE'), \n",
    "           bigquery.SchemaField('location', 'STRING', mode='NULLABLE'),\n",
    "       ]\n",
    "   }, 'den_crimes': {\n",
    "        'dataset_name':'denver',\n",
    "        'table_name':'den_crimes',\n",
    "        'schema': [\n",
    "            bigquery.SchemaField('incident_id', 'INTEGER', mode='REQUIRED'),\n",
    "            bigquery.SchemaField('offense_id', 'INTEGER', mode='REQUIRED'),\n",
    "            bigquery.SchemaField('offense_code', 'INTEGER', mode='NULLABLE'),\n",
    "            bigquery.SchemaField('offense_code_ext', 'INTEGER', mode='NULLABLE'),\n",
    "            bigquery.SchemaField('offense_type_id', 'STRING', mode='NULLABLE'),\n",
    "            bigquery.SchemaField('offense_cat_id', 'STRING', mode='NULLABLE'),\n",
    "            bigquery.SchemaField('first_occurrence', 'DATETIME', mode='NULLABLE'),\n",
    "            bigquery.SchemaField('last_occurrence', 'DATETIME', mode='NULLABLE'),\n",
    "            bigquery.SchemaField('reported_date', 'DATETIME', mode='NULLABLE'),\n",
    "            bigquery.SchemaField('address', 'STRING', mode='NULLABLE'),\n",
    "            bigquery.SchemaField('geo_x', 'FLOAT', mode='NULLABLE'),\n",
    "            bigquery.SchemaField('geo_y', 'FLOAT', mode='NULLABLE'),\n",
    "            bigquery.SchemaField('geo_lon', 'FLOAT', mode='NULLABLE'),\n",
    "            bigquery.SchemaField('geo_lat', 'FLOAT', mode='NULLABLE'),\n",
    "            bigquery.SchemaField('district_id', 'STRING', mode='NULLABLE'),\n",
    "            bigquery.SchemaField('precinct_id', 'INTEGER', mode='NULLABLE'),\n",
    "            bigquery.SchemaField('neighborhood_id', 'STRING', mode='NULLABLE'),\n",
    "            bigquery.SchemaField('is_crime', 'BOOL', mode='NULLABLE'), \n",
    "            bigquery.SchemaField('is_traffic', 'BOOL', mode='NULLABLE'), \n",
    "            bigquery.SchemaField('victim_count', 'INTEGER', mode='NULLABLE')\n",
    "          ] \n",
    "   }, 'off_codes':{\n",
    "        'dataset_name':'denver',\n",
    "        'table_name':'off_codes',\n",
    "        'schema': [\n",
    "            bigquery.SchemaField('object_id', 'INTEGER', mode='REQUIRED'),\n",
    "            bigquery.SchemaField('offense_code', 'INTEGER', mode='REQUIRED'),\n",
    "            bigquery.SchemaField('offense_code_ext', 'INTEGER', mode='NULLABLE'),\n",
    "            bigquery.SchemaField('offense_type_id', 'STRING', mode='NULLABLE'),\n",
    "            bigquery.SchemaField('offense_type_name', 'STRING', mode='NULLABLE'),\n",
    "            bigquery.SchemaField('offense_cat_id', 'STRING', mode='NULLABLE'),\n",
    "            bigquery.SchemaField('offense_cat_name', 'STRING', mode='NULLABLE'),\n",
    "            bigquery.SchemaField('is_crime', 'BOOL', mode='NULLABLE'),\n",
    "            bigquery.SchemaField('is_traffic', 'BOOL', mode='NULLABLE')\n",
    "\n",
    "        ]\n",
    "   }\n",
    "}\n",
    "\n",
    "# **** BIGQUERY CLIENT ****\n",
    "client = bigquery.Client(credentials=credentials, project=credentials.project_id)\n",
    "\n",
    "# **** CREATE TABLES  ****\n",
    "for table_name in TABLE_METADATA:\n",
    "  # Create dataset (if needed)\n",
    "  dataset_name = TABLE_METADATA[table_name]['dataset_name']\n",
    "  dataset_id = f\"{PROJECT_NAME}.{dataset_name}\"\n",
    "  dataset = bigquery.Dataset(dataset_id)\n",
    "  dataset.location = \"US\"\n",
    "  dataset = client.create_dataset(dataset, exists_ok=True)\n",
    "  # Create table\n",
    "  full_table_id = f\"{PROJECT_NAME}.{dataset_name}.{table_name}\"\n",
    "  schema = TABLE_METADATA[table_name]['schema']\n",
    "  table = bigquery.Table(full_table_id, schema = schema)\n",
    "  try:\n",
    "    client.create_table(table)\n",
    "    print(f\"Created table: {table_name}\")\n",
    "    table_ref = client.get_table(table)\n",
    "    for column in table_ref.schema:\n",
    "      print(f\"\\t{column.name}\\t{column.field_type}\") \n",
    "    print(\"\\n\")\n",
    "  except:\n",
    "    print(f\"Did not create table {table_name}. Already exists?\")"
   ]
  },
  {
   "attachments": {},
   "cell_type": "markdown",
   "metadata": {},
   "source": [
    "#### Load Chicago Crime Data"
   ]
  },
  {
   "attachments": {},
   "cell_type": "markdown",
   "metadata": {},
   "source": [
    "The Chicago Kaggle data contains yearly data tables from 2010 to 2022. We've limited ourselves to data since 2018 for this project. "
   ]
  },
  {
   "cell_type": "code",
   "execution_count": 115,
   "metadata": {},
   "outputs": [
    {
     "name": "stdout",
     "output_type": "stream",
     "text": [
      "../data/chicago/2018.csv\n",
      "../data/chicago/2019.csv\n",
      "../data/chicago/2020.csv\n",
      "../data/chicago/2021.csv\n",
      "../data/chicago/2022.csv\n"
     ]
    }
   ],
   "source": [
    "job_config = bigquery.LoadJobConfig(\n",
    "        create_disposition=\"CREATE_IF_NEEDED\",\n",
    "        write_disposition=\"WRITE_APPEND\",\n",
    "        schema=TABLE_METADATA['chi_crimes']['schema']\n",
    "    )\n",
    "\n",
    "for year in range(18,23): \n",
    "  filepath = f\"{DATA_DIR}/chicago/20{year}.csv\"\n",
    "  print(filepath)\n",
    "  df = pd.read_csv(filepath)\n",
    "  df.columns = [col.lower().replace(\" \",\"_\") for col in df.columns]\n",
    "  df.rename({'id':'crime_id', \n",
    "          'date':'date_time',\n",
    "          'iucr':'IUCR_code',\n",
    "          'primary_type':'primary_IUCR',\n",
    "          'description':'secondary_IUCR',\n",
    "          'fbi_code':'FBI_code',\n",
    "          'latitude':'lat',\n",
    "          'longitude':'lon'\n",
    "          }, axis=1, inplace=True)\n",
    "  job = client.load_table_from_dataframe(df, destination=f'{PROJECT_NAME}.chicago.chi_crimes', job_config=job_config)\n",
    "  job.result()"
   ]
  },
  {
   "attachments": {},
   "cell_type": "markdown",
   "metadata": {},
   "source": [
    "#### Load Denver Crime Data"
   ]
  },
  {
   "cell_type": "code",
   "execution_count": 137,
   "metadata": {},
   "outputs": [],
   "source": [
    "with open(\"../data/denver/crime.csv\", \"r\", encoding=\"windows-1252\") as file:\n",
    "  den_crimes = pd.read_csv(file)\n",
    "\n",
    "den_crimes.columns = [col.lower().replace(\"e_date\",\"e\") for col in den_crimes.columns]\n",
    "den_crimes.rename({\n",
    "  'offense_code_extension':'offense_code_ext',\n",
    "  'offense_category_id':'offense_cat_id',\n",
    "  'incident_address':'address'\n",
    "}, axis=1, inplace=True)\n",
    "\n",
    "den_crimes['first_occurrence'] = pd.to_datetime(den_crimes['first_occurrence'])\n",
    "den_crimes['last_occurrence'] = pd.to_datetime(den_crimes['last_occurrence'])\n",
    "den_crimes['reported_date'] = pd.to_datetime(den_crimes['reported_date'])\n"
   ]
  },
  {
   "cell_type": "code",
   "execution_count": 148,
   "metadata": {},
   "outputs": [
    {
     "data": {
      "text/plain": [
       "LoadJob<project=team-week2, location=US, id=53a5896e-c7a1-41ed-a297-0e15ac465d5b>"
      ]
     },
     "execution_count": 148,
     "metadata": {},
     "output_type": "execute_result"
    }
   ],
   "source": [
    "job_config = bigquery.LoadJobConfig(\n",
    "        create_disposition=\"CREATE_IF_NEEDED\",\n",
    "        write_disposition=\"WRITE_TRUNCATE\",\n",
    "        schema=TABLE_METADATA['den_crimes']['schema']\n",
    "    )\n",
    "job = client.load_table_from_dataframe(\n",
    "    den_crimes,\n",
    "    destination=f\"{PROJECT_NAME}.denver.den_crimes\", \n",
    "    job_config=job_config\n",
    ")\n",
    "job.result()\n"
   ]
  },
  {
   "cell_type": "code",
   "execution_count": 166,
   "metadata": {},
   "outputs": [
    {
     "data": {
      "text/plain": [
       "object_id             int64\n",
       "offense_code          int64\n",
       "offense_code_ext      int64\n",
       "offense_type_id      object\n",
       "offense_type_name    object\n",
       "offense_cat_id       object\n",
       "offense_cat_name     object\n",
       "is_crime              int64\n",
       "is_traffic            int64\n",
       "dtype: object"
      ]
     },
     "execution_count": 166,
     "metadata": {},
     "output_type": "execute_result"
    }
   ],
   "source": [
    "## Offense Code Dimension Table\n",
    "off_codes = pd.read_csv('../data/denver/offense_codes.csv')\n",
    "off_codes.columns = [col.lower().replace(\"category\",\"cat\") for col in off_codes.columns]\n",
    "off_codes.rename({\n",
    "  'objectid':'object_id',\n",
    "  'offense_code_extension':'offense_code_ext'\n",
    "}, axis=1, inplace=True)\n",
    "\n",
    "off_codes.dtypes"
   ]
  },
  {
   "cell_type": "code",
   "execution_count": 167,
   "metadata": {},
   "outputs": [
    {
     "data": {
      "text/plain": [
       "LoadJob<project=team-week2, location=US, id=8d622a27-ca81-4483-bc0b-7ff63c56561c>"
      ]
     },
     "execution_count": 167,
     "metadata": {},
     "output_type": "execute_result"
    }
   ],
   "source": [
    "job_config = bigquery.LoadJobConfig(\n",
    "        create_disposition=\"CREATE_IF_NEEDED\",\n",
    "        write_disposition=\"WRITE_TRUNCATE\",\n",
    "        schema=TABLE_METADATA['off_codes']['schema']\n",
    "    )\n",
    "job = client.load_table_from_dataframe(\n",
    "    off_codes,\n",
    "    destination=f\"{PROJECT_NAME}.denver.off_codes\", \n",
    "    job_config=job_config\n",
    ")\n",
    "job.result()"
   ]
  },
  {
   "attachments": {},
   "cell_type": "markdown",
   "metadata": {},
   "source": [
    "### Loading Chicago PD Map Geometries "
   ]
  },
  {
   "attachments": {},
   "cell_type": "markdown",
   "metadata": {},
   "source": [
    "_[Source](https://data.cityofchicago.org/Public-Safety/Boundaries-Police-Beats-current-/aerh-rz74)_\n",
    "\n",
    "Loading GeoJSON data to BigQuery is [somewhat finicky](https://stackoverflow.com/questions/24239056/load-geojson-in-bigquery). The easiest way I can think of doing this with Python is to load the geometries as strings in a dataframe and then use the `ST_GEOGFROMTEXT` function to convert them back to geometries once they're in BigQuery."
   ]
  },
  {
   "cell_type": "code",
   "execution_count": 33,
   "metadata": {},
   "outputs": [
    {
     "data": {
      "text/html": [
       "<div>\n",
       "<style scoped>\n",
       "    .dataframe tbody tr th:only-of-type {\n",
       "        vertical-align: middle;\n",
       "    }\n",
       "\n",
       "    .dataframe tbody tr th {\n",
       "        vertical-align: top;\n",
       "    }\n",
       "\n",
       "    .dataframe thead th {\n",
       "        text-align: right;\n",
       "    }\n",
       "</style>\n",
       "<table border=\"1\" class=\"dataframe\">\n",
       "  <thead>\n",
       "    <tr style=\"text-align: right;\">\n",
       "      <th></th>\n",
       "      <th>beat</th>\n",
       "      <th>beat_num</th>\n",
       "      <th>district</th>\n",
       "      <th>sector</th>\n",
       "      <th>geometry</th>\n",
       "    </tr>\n",
       "  </thead>\n",
       "  <tbody>\n",
       "    <tr>\n",
       "      <th>0</th>\n",
       "      <td>1</td>\n",
       "      <td>1713</td>\n",
       "      <td>17</td>\n",
       "      <td>1</td>\n",
       "      <td>MULTIPOLYGON (((-87.70473 41.97577, -87.70472 ...</td>\n",
       "    </tr>\n",
       "    <tr>\n",
       "      <th>1</th>\n",
       "      <td>0</td>\n",
       "      <td>3100</td>\n",
       "      <td>31</td>\n",
       "      <td>0</td>\n",
       "      <td>MULTIPOLYGON (((-87.83365 41.97535, -87.83366 ...</td>\n",
       "    </tr>\n",
       "    <tr>\n",
       "      <th>2</th>\n",
       "      <td>5</td>\n",
       "      <td>1651</td>\n",
       "      <td>16</td>\n",
       "      <td>5</td>\n",
       "      <td>MULTIPOLYGON (((-87.90684 41.97656, -87.91070 ...</td>\n",
       "    </tr>\n",
       "    <tr>\n",
       "      <th>3</th>\n",
       "      <td>1</td>\n",
       "      <td>1914</td>\n",
       "      <td>19</td>\n",
       "      <td>1</td>\n",
       "      <td>MULTIPOLYGON (((-87.64492 41.96973, -87.64431 ...</td>\n",
       "    </tr>\n",
       "    <tr>\n",
       "      <th>4</th>\n",
       "      <td>1</td>\n",
       "      <td>1915</td>\n",
       "      <td>19</td>\n",
       "      <td>1</td>\n",
       "      <td>MULTIPOLYGON (((-87.63724 41.96599, -87.63644 ...</td>\n",
       "    </tr>\n",
       "    <tr>\n",
       "      <th>...</th>\n",
       "      <td>...</td>\n",
       "      <td>...</td>\n",
       "      <td>...</td>\n",
       "      <td>...</td>\n",
       "      <td>...</td>\n",
       "    </tr>\n",
       "    <tr>\n",
       "      <th>272</th>\n",
       "      <td>1</td>\n",
       "      <td>0314</td>\n",
       "      <td>03</td>\n",
       "      <td>1</td>\n",
       "      <td>MULTIPOLYGON (((-87.58879 41.78612, -87.58844 ...</td>\n",
       "    </tr>\n",
       "    <tr>\n",
       "      <th>273</th>\n",
       "      <td>2</td>\n",
       "      <td>0825</td>\n",
       "      <td>08</td>\n",
       "      <td>2</td>\n",
       "      <td>MULTIPOLYGON (((-87.67917 41.78656, -87.67912 ...</td>\n",
       "    </tr>\n",
       "    <tr>\n",
       "      <th>274</th>\n",
       "      <td>1</td>\n",
       "      <td>0313</td>\n",
       "      <td>03</td>\n",
       "      <td>1</td>\n",
       "      <td>MULTIPOLYGON (((-87.60854 41.78583, -87.60808 ...</td>\n",
       "    </tr>\n",
       "    <tr>\n",
       "      <th>275</th>\n",
       "      <td>2</td>\n",
       "      <td>0823</td>\n",
       "      <td>08</td>\n",
       "      <td>2</td>\n",
       "      <td>MULTIPOLYGON (((-87.69354 41.78458, -87.69354 ...</td>\n",
       "    </tr>\n",
       "    <tr>\n",
       "      <th>276</th>\n",
       "      <td>1</td>\n",
       "      <td>0312</td>\n",
       "      <td>03</td>\n",
       "      <td>1</td>\n",
       "      <td>MULTIPOLYGON (((-87.60431 41.78043, -87.60400 ...</td>\n",
       "    </tr>\n",
       "  </tbody>\n",
       "</table>\n",
       "<p>277 rows × 5 columns</p>\n",
       "</div>"
      ],
      "text/plain": [
       "    beat beat_num district sector  \\\n",
       "0      1     1713       17      1   \n",
       "1      0     3100       31      0   \n",
       "2      5     1651       16      5   \n",
       "3      1     1914       19      1   \n",
       "4      1     1915       19      1   \n",
       "..   ...      ...      ...    ...   \n",
       "272    1     0314       03      1   \n",
       "273    2     0825       08      2   \n",
       "274    1     0313       03      1   \n",
       "275    2     0823       08      2   \n",
       "276    1     0312       03      1   \n",
       "\n",
       "                                              geometry  \n",
       "0    MULTIPOLYGON (((-87.70473 41.97577, -87.70472 ...  \n",
       "1    MULTIPOLYGON (((-87.83365 41.97535, -87.83366 ...  \n",
       "2    MULTIPOLYGON (((-87.90684 41.97656, -87.91070 ...  \n",
       "3    MULTIPOLYGON (((-87.64492 41.96973, -87.64431 ...  \n",
       "4    MULTIPOLYGON (((-87.63724 41.96599, -87.63644 ...  \n",
       "..                                                 ...  \n",
       "272  MULTIPOLYGON (((-87.58879 41.78612, -87.58844 ...  \n",
       "273  MULTIPOLYGON (((-87.67917 41.78656, -87.67912 ...  \n",
       "274  MULTIPOLYGON (((-87.60854 41.78583, -87.60808 ...  \n",
       "275  MULTIPOLYGON (((-87.69354 41.78458, -87.69354 ...  \n",
       "276  MULTIPOLYGON (((-87.60431 41.78043, -87.60400 ...  \n",
       "\n",
       "[277 rows x 5 columns]"
      ]
     },
     "execution_count": 33,
     "metadata": {},
     "output_type": "execute_result"
    }
   ],
   "source": [
    "import geopandas as gpd\n",
    "\n",
    "gdf = gpd.read_file(\"../data/chicago/Boundaries - Police Beats (current).geojson\")\n",
    "gdf"
   ]
  },
  {
   "cell_type": "code",
   "execution_count": 37,
   "metadata": {},
   "outputs": [],
   "source": [
    "gdf = gdf[['beat_num','district','geometry']]\n",
    "df = pd.DataFrame(gdf) # Convert to regular dataframe before removing geometry typing\n",
    "df['geometry'] = df['geometry'].astype(str)"
   ]
  },
  {
   "cell_type": "code",
   "execution_count": 39,
   "metadata": {},
   "outputs": [
    {
     "data": {
      "text/plain": [
       "LoadJob<project=team-week2, location=US, id=a3939764-d956-4cf9-8272-ebe8ee09d6eb>"
      ]
     },
     "execution_count": 39,
     "metadata": {},
     "output_type": "execute_result"
    }
   ],
   "source": [
    "job_config = bigquery.LoadJobConfig(\n",
    "        create_disposition=\"CREATE_IF_NEEDED\",\n",
    "        write_disposition=\"WRITE_TRUNCATE\",\n",
    "        autodetect=True\n",
    "    )\n",
    "job = client.load_table_from_dataframe(\n",
    "    df,\n",
    "    destination=\"team-week2.chicago.geometries\", \n",
    "    job_config=job_config\n",
    ")\n",
    "job.result()"
   ]
  }
 ],
 "metadata": {
  "kernelspec": {
   "display_name": "Python 3",
   "language": "python",
   "name": "python3"
  },
  "language_info": {
   "codemirror_mode": {
    "name": "ipython",
    "version": 3
   },
   "file_extension": ".py",
   "mimetype": "text/x-python",
   "name": "python",
   "nbconvert_exporter": "python",
   "pygments_lexer": "ipython3",
   "version": "3.10.6 (main, Nov 14 2022, 16:10:14) [GCC 11.3.0]"
  },
  "orig_nbformat": 4,
  "vscode": {
   "interpreter": {
    "hash": "916dbcbb3f70747c44a77c7bcd40155683ae19c65e1c03b4aa3499c5328201f1"
   }
  }
 },
 "nbformat": 4,
 "nbformat_minor": 2
}
